{
 "cells": [
  {
   "cell_type": "code",
   "execution_count": 15,
   "metadata": {},
   "outputs": [],
   "source": [
    "import pandas as pd"
   ]
  },
  {
   "cell_type": "code",
   "execution_count": 6,
   "metadata": {},
   "outputs": [],
   "source": [
    "updated_snp_metrics_path = f'data/updated_hackathon_snp_metrics.txt'\n",
    "pathogenic_snps_path = f'data/PATHOGENIC_SNPS_TO_CLUSTER.txt'\n",
    "bim_path = f'data/RawData_BinaryFormat.bim'\n",
    "all_vars_path = f'data/ALL_GENOTYPED_VARIANTS_ALL_ANCESTRIES_RELEASE7_GP2.txt'"
   ]
  },
  {
   "cell_type": "code",
   "execution_count": 22,
   "metadata": {},
   "outputs": [
    {
     "name": "stdout",
     "output_type": "stream",
     "text": [
      "                 SNP Classification  Number of NC\n",
      "0   chr1:7984985:A:G           Good             2\n",
      "1  chr1:16986554:G:A            Bad            28\n",
      "2  chr1:16988138:C:T           Good             0\n",
      "3  chr1:16988161:T:A           Good             0\n",
      "4  chr1:16990276:G:C            Bad            15\n",
      "(189, 3)\n"
     ]
    }
   ],
   "source": [
    "new_snp_table = pd.read_csv('data/new_snp_table.csv', sep=',')\n",
    "print(new_snp_table.head())\n",
    "print(new_snp_table.shape)"
   ]
  },
  {
   "cell_type": "code",
   "execution_count": 25,
   "metadata": {},
   "outputs": [
    {
     "name": "stdout",
     "output_type": "stream",
     "text": [
      "2.0720720720720722\n",
      "0\n",
      "14\n",
      "26.852459016393443\n",
      "4\n",
      "91\n",
      "6.117647058823529\n",
      "1\n",
      "22\n"
     ]
    }
   ],
   "source": [
    "for cat in ['Good','Bad','Medium']:\n",
    "    subset_snp_table = new_snp_table[new_snp_table['Classification'] == cat]\n",
    "    print(subset_snp_table['Number of NC'].mean())\n",
    "    print(subset_snp_table['Number of NC'].min())\n",
    "    print(subset_snp_table['Number of NC'].max())"
   ]
  },
  {
   "cell_type": "code",
   "execution_count": null,
   "metadata": {},
   "outputs": [],
   "source": [
    "print(new_snp_table[new_snp_table['Classification'] == 'Gppd'])"
   ]
  },
  {
   "cell_type": "code",
   "execution_count": 4,
   "metadata": {},
   "outputs": [
    {
     "name": "stdout",
     "output_type": "stream",
     "text": [
      "                              snpID         R     Theta  GenTrain_Score  GT  \\\n",
      "0  PARK7:NM_007262.4:c.501A>G:p.(.)  1.563070  0.003493        0.813555  AA   \n",
      "1                          exm22865  0.862394  0.971369        0.859224  BB   \n",
      "2                          exm22897  1.426340  0.958124        0.802682  BB   \n",
      "3                       rs144557304  1.004180  0.986961        0.884113  BB   \n",
      "4                          exm22899  1.026380  0.974530        0.891090  BB   \n",
      "\n",
      "   chromosome  position            Sample_ID phenotype ancestry       merge_id  \n",
      "0           1   7984985  204697840003_R04C01        PD      AFR   chr1:7984985  \n",
      "1           1  16986554  204697840003_R04C01        PD      AFR  chr1:16986554  \n",
      "2           1  16988138  204697840003_R04C01        PD      AFR  chr1:16988138  \n",
      "3           1  16988138  204697840003_R04C01        PD      AFR  chr1:16988138  \n",
      "4           1  16988161  204697840003_R04C01        PD      AFR  chr1:16988161  \n",
      "(757890, 11)\n",
      "378\n",
      "190\n"
     ]
    }
   ],
   "source": [
    "snp_metrics = pd.read_csv(updated_snp_metrics_path, sep='\\t')\n",
    "snp_metrics['merge_id'] = 'chr' + snp_metrics['chromosome'].astype(str) + ':' + snp_metrics['position'].astype(str)\n",
    "print(snp_metrics.head())\n",
    "print(snp_metrics.shape)\n",
    "print(len(snp_metrics['snpID'].unique()))\n",
    "print(len(snp_metrics['merge_id'].unique()))"
   ]
  },
  {
   "cell_type": "code",
   "execution_count": 7,
   "metadata": {},
   "outputs": [
    {
     "name": "stdout",
     "output_type": "stream",
     "text": [
      "                  SNP   chr        pos alt ref        merge_id\n",
      "0  chr1:155235197:G:C  chr1  155235197   G   C  chr1:155235197\n",
      "1  chr1:155235205:C:G  chr1  155235205   C   G  chr1:155235205\n",
      "2  chr1:155235819:C:T  chr1  155235819   C   T  chr1:155235819\n",
      "3  chr1:155235843:T:C  chr1  155235843   T   C  chr1:155235843\n",
      "4  chr1:155236246:G:A  chr1  155236246   G   A  chr1:155236246\n",
      "(360, 6)\n",
      "360\n"
     ]
    }
   ],
   "source": [
    "pathogenic_snps = pd.read_csv(pathogenic_snps_path, sep='\\t')\n",
    "pathogenic_snps[['chr','pos','alt','ref']] = pathogenic_snps['SNP'].str.split(':', expand=True)\n",
    "pathogenic_snps['merge_id'] =  pathogenic_snps['chr'].astype(str) + ':' + pathogenic_snps['pos']\n",
    "print(pathogenic_snps.head())\n",
    "print(pathogenic_snps.shape)\n",
    "print(len(pathogenic_snps['SNP'].unique()))"
   ]
  },
  {
   "cell_type": "code",
   "execution_count": 8,
   "metadata": {},
   "outputs": [
    {
     "name": "stdout",
     "output_type": "stream",
     "text": [
      "   chr                         id  cm  pos alt ref\n",
      "0    1     NeuroX_PARK7_Pro158del   0    0   0   I\n",
      "1    1  NeuroX_PINK1_23bp_del_ex7   0    0   0   I\n",
      "2    1   NeuroX_PINK1_534_535insQ   0    0   0   D\n",
      "3    1      NeuroX_PINK1_Asp525fs   0    0   I   D\n",
      "4    1      NeuroX_PINK1_Cys549fs   0    0   0   I\n"
     ]
    }
   ],
   "source": [
    "bim = pd.read_csv(bim_path, sep='\\s+', header=None)\n",
    "bim.columns = ['chr','id','cm','pos','alt','ref']\n",
    "print(bim.head())"
   ]
  },
  {
   "cell_type": "code",
   "execution_count": 9,
   "metadata": {},
   "outputs": [
    {
     "name": "stdout",
     "output_type": "stream",
     "text": [
      "                ID   chr     pos alt ref     merge_id\n",
      "0   chr1:49554:A:G  chr1   49554   A   G   chr1:49554\n",
      "1  chr1:115746:G:A  chr1  115746   G   A  chr1:115746\n",
      "2  chr1:180093:D:I  chr1  180093   D   I  chr1:180093\n",
      "3  chr1:598858:A:C  chr1  598858   A   C  chr1:598858\n",
      "4  chr1:629488:G:A  chr1  629488   G   A  chr1:629488\n",
      "(18529396, 6)\n",
      "1856722\n"
     ]
    }
   ],
   "source": [
    "all_vars = pd.read_csv(all_vars_path, sep='\\t')\n",
    "all_vars[['chr','pos','alt','ref']] = all_vars['ID'].str.split(':', expand=True)\n",
    "all_vars['merge_id'] =  all_vars['chr'].astype(str) + ':' + all_vars['pos']\n",
    "print(all_vars.head())\n",
    "print(all_vars.shape)\n",
    "print(len(all_vars['ID'].unique()))\n",
    "all_vars = all_vars.drop_duplicates()"
   ]
  },
  {
   "cell_type": "code",
   "execution_count": 10,
   "metadata": {},
   "outputs": [
    {
     "name": "stdout",
     "output_type": "stream",
     "text": [
      "                              snpID        R     Theta  GenTrain_Score  GT  \\\n",
      "0  PARK7:NM_007262.4:c.501A>G:p.(.)  1.56307  0.003493        0.813555  AA   \n",
      "1  PARK7:NM_007262.4:c.501A>G:p.(.)  1.62276  0.026541        0.813555  AA   \n",
      "2  PARK7:NM_007262.4:c.501A>G:p.(.)  1.61216  0.015868        0.813555  AA   \n",
      "3  PARK7:NM_007262.4:c.501A>G:p.(.)  1.72910  0.013867        0.813555  AA   \n",
      "4  PARK7:NM_007262.4:c.501A>G:p.(.)  1.69665  0.021765        0.813555  AA   \n",
      "\n",
      "   chromosome  position            Sample_ID phenotype ancestry      merge_id  \\\n",
      "0           1   7984985  204697840003_R04C01        PD      AFR  chr1:7984985   \n",
      "1           1   7984985  204701870016_R05C01        PD      AFR  chr1:7984985   \n",
      "2           1   7984985  204701870004_R06C01        PD      AFR  chr1:7984985   \n",
      "3           1   7984985  204701860133_R08C01        PD      AFR  chr1:7984985   \n",
      "4           1   7984985  204620380006_R08C01        PD      AFR  chr1:7984985   \n",
      "\n",
      "                SNP   chr      pos alt ref  \n",
      "0  chr1:7984985:A:G  chr1  7984985   A   G  \n",
      "1  chr1:7984985:A:G  chr1  7984985   A   G  \n",
      "2  chr1:7984985:A:G  chr1  7984985   A   G  \n",
      "3  chr1:7984985:A:G  chr1  7984985   A   G  \n",
      "4  chr1:7984985:A:G  chr1  7984985   A   G  \n",
      "(771925, 16)\n",
      "192\n"
     ]
    }
   ],
   "source": [
    "metrics_path = snp_metrics.merge(pathogenic_snps, how='inner', on=['merge_id'])\n",
    "print(metrics_path.head())\n",
    "print(metrics_path.shape)\n",
    "print(len(metrics_path['SNP'].unique()))"
   ]
  },
  {
   "cell_type": "code",
   "execution_count": 11,
   "metadata": {},
   "outputs": [
    {
     "name": "stdout",
     "output_type": "stream",
     "text": [
      "                    ID chr_x      pos_x alt_x ref_x      merge_id_x  \\\n",
      "0     chr1:7984985:A:G  chr1    7984985     A     G    chr1:7984985   \n",
      "1    chr1:16986554:G:A  chr1   16986554     G     A   chr1:16986554   \n",
      "2    chr1:16988161:T:A  chr1   16988161     T     A   chr1:16988161   \n",
      "3    chr1:16990276:G:C  chr1   16990276     G     C   chr1:16990276   \n",
      "4    chr1:16991787:G:A  chr1   16991787     G     A   chr1:16991787   \n",
      "5    chr1:16996489:G:A  chr1   16996489     G     A   chr1:16996489   \n",
      "6    chr1:17000494:G:A  chr1   17000494     G     A   chr1:17000494   \n",
      "7    chr1:20637956:G:C  chr1   20637956     G     C   chr1:20637956   \n",
      "8    chr1:20638012:G:C  chr1   20638012     G     C   chr1:20638012   \n",
      "9    chr1:20644540:G:A  chr1   20644540     G     A   chr1:20644540   \n",
      "10   chr1:20645615:G:A  chr1   20645615     G     A   chr1:20645615   \n",
      "11   chr1:20645675:G:A  chr1   20645675     G     A   chr1:20645675   \n",
      "12   chr1:20648528:G:A  chr1   20648528     G     A   chr1:20648528   \n",
      "13   chr1:20648612:G:A  chr1   20648612     G     A   chr1:20648612   \n",
      "14   chr1:65392454:T:A  chr1   65392454     T     A   chr1:65392454   \n",
      "15  chr1:155235205:C:G  chr1  155235205     C     G  chr1:155235205   \n",
      "16  chr1:155236246:G:A  chr1  155236246     G     A  chr1:155236246   \n",
      "17  chr1:155237394:G:A  chr1  155237394     G     A  chr1:155237394   \n",
      "18  chr1:155238214:A:C  chr1  155238214     A     C  chr1:155238214   \n",
      "19  chr1:155238228:A:G  chr1  155238228     A     G  chr1:155238228   \n",
      "\n",
      "                   SNP chr_y      pos_y alt_y ref_y      merge_id_y  \n",
      "0     chr1:7984985:A:G  chr1    7984985     A     G    chr1:7984985  \n",
      "1    chr1:16986554:G:A  chr1   16986554     G     A   chr1:16986554  \n",
      "2    chr1:16988161:T:A  chr1   16988161     T     A   chr1:16988161  \n",
      "3    chr1:16990276:G:C  chr1   16990276     G     C   chr1:16990276  \n",
      "4    chr1:16991787:G:A  chr1   16991787     G     A   chr1:16991787  \n",
      "5    chr1:16996489:G:A  chr1   16996489     G     A   chr1:16996489  \n",
      "6    chr1:17000494:G:A  chr1   17000494     G     A   chr1:17000494  \n",
      "7    chr1:20637956:G:C  chr1   20637956     G     C   chr1:20637956  \n",
      "8    chr1:20638012:G:C  chr1   20638012     G     C   chr1:20638012  \n",
      "9    chr1:20644540:G:A  chr1   20644540     G     A   chr1:20644540  \n",
      "10   chr1:20645615:G:A  chr1   20645615     G     A   chr1:20645615  \n",
      "11   chr1:20645675:G:A  chr1   20645675     G     A   chr1:20645675  \n",
      "12   chr1:20648528:G:A  chr1   20648528     G     A   chr1:20648528  \n",
      "13   chr1:20648612:G:A  chr1   20648612     G     A   chr1:20648612  \n",
      "14   chr1:65392454:T:A  chr1   65392454     T     A   chr1:65392454  \n",
      "15  chr1:155235205:C:G  chr1  155235205     C     G  chr1:155235205  \n",
      "16  chr1:155236246:G:A  chr1  155236246     G     A  chr1:155236246  \n",
      "17  chr1:155237394:G:A  chr1  155237394     G     A  chr1:155237394  \n",
      "18  chr1:155238214:A:C  chr1  155238214     A     C  chr1:155238214  \n",
      "19  chr1:155238228:A:G  chr1  155238228     A     G  chr1:155238228  \n",
      "(111, 12)\n",
      "111\n"
     ]
    }
   ],
   "source": [
    "all_path = all_vars.merge(pathogenic_snps, how='inner', left_on=['ID'], right_on=['SNP'])\n",
    "all_path =  all_path.drop_duplicates()\n",
    "print(all_path.head(20))\n",
    "print(all_path.shape)\n",
    "print(len(all_path['SNP'].unique()))"
   ]
  },
  {
   "cell_type": "code",
   "execution_count": 12,
   "metadata": {},
   "outputs": [
    {
     "name": "stdout",
     "output_type": "stream",
     "text": [
      "                              snpID        R     Theta  GenTrain_Score  GT  \\\n",
      "0  PARK7:NM_007262.4:c.501A>G:p.(.)  1.56307  0.003493        0.813555  AA   \n",
      "1  PARK7:NM_007262.4:c.501A>G:p.(.)  1.62276  0.026541        0.813555  AA   \n",
      "2  PARK7:NM_007262.4:c.501A>G:p.(.)  1.61216  0.015868        0.813555  AA   \n",
      "3  PARK7:NM_007262.4:c.501A>G:p.(.)  1.72910  0.013867        0.813555  AA   \n",
      "4  PARK7:NM_007262.4:c.501A>G:p.(.)  1.69665  0.021765        0.813555  AA   \n",
      "\n",
      "   chromosome  position            Sample_ID phenotype ancestry  ...    pos_x  \\\n",
      "0           1   7984985  204697840003_R04C01        PD      AFR  ...  7984985   \n",
      "1           1   7984985  204701870016_R05C01        PD      AFR  ...  7984985   \n",
      "2           1   7984985  204701870004_R06C01        PD      AFR  ...  7984985   \n",
      "3           1   7984985  204701860133_R08C01        PD      AFR  ...  7984985   \n",
      "4           1   7984985  204620380006_R08C01        PD      AFR  ...  7984985   \n",
      "\n",
      "  alt_x ref_x    merge_id_x               SNP chr_y    pos_y alt_y ref_y  \\\n",
      "0     A     G  chr1:7984985  chr1:7984985:A:G  chr1  7984985     A     G   \n",
      "1     A     G  chr1:7984985  chr1:7984985:A:G  chr1  7984985     A     G   \n",
      "2     A     G  chr1:7984985  chr1:7984985:A:G  chr1  7984985     A     G   \n",
      "3     A     G  chr1:7984985  chr1:7984985:A:G  chr1  7984985     A     G   \n",
      "4     A     G  chr1:7984985  chr1:7984985:A:G  chr1  7984985     A     G   \n",
      "\n",
      "     merge_id_y  \n",
      "0  chr1:7984985  \n",
      "1  chr1:7984985  \n",
      "2  chr1:7984985  \n",
      "3  chr1:7984985  \n",
      "4  chr1:7984985  \n",
      "\n",
      "[5 rows x 23 columns]\n",
      "(445110, 23)\n",
      "111\n",
      "['chr1:7984985:A:G' 'chr1:16986554:G:A' 'chr1:16988161:T:A'\n",
      " 'chr1:16990276:G:C' 'chr1:16991787:G:A' 'chr1:16996489:G:A'\n",
      " 'chr1:17000494:G:A' 'chr1:20637956:G:C' 'chr1:20638012:G:C'\n",
      " 'chr1:20644540:G:A' 'chr1:20645615:G:A' 'chr1:20645675:G:A'\n",
      " 'chr1:20648528:G:A' 'chr1:20648612:G:A' 'chr1:65392454:T:A'\n",
      " 'chr1:155235205:C:G' 'chr1:155236246:G:A' 'chr1:155237394:G:A'\n",
      " 'chr1:155238214:A:C' 'chr1:155238228:A:G' 'chr1:155238258:G:A'\n",
      " 'chr1:155238291:G:A' 'chr1:155238608:T:A' 'chr1:155239639:A:C'\n",
      " 'chr3:132477995:A:G' 'chr3:132494190:A:G' 'chr4:41261759:A:C'\n",
      " 'chr6:161350187:G:A' 'chr6:161360169:G:A' 'chr6:161548937:G:A'\n",
      " 'chr6:161569369:G:A' 'chr6:161973317:G:A' 'chr6:162443371:G:A'\n",
      " 'chr12:40251273:G:A' 'chr12:40293624:G:C' 'chr12:40308481:G:A'\n",
      " 'chr12:40340400:G:A' 'chr12:40363526:G:A' 'chr15:61856408:G:A'\n",
      " 'chr15:62028419:G:A' 'chr15:89316819:G:A' 'chr15:89317379:G:A'\n",
      " 'chr15:89317389:G:A' 'chr15:89317455:G:A' 'chr15:89317460:G:A'\n",
      " 'chr15:89317470:G:A' 'chr15:89318587:G:A' 'chr15:89318611:G:A'\n",
      " 'chr15:89318737:G:A' 'chr15:89319065:G:A' 'chr15:89319234:G:A'\n",
      " 'chr15:89320850:A:C' 'chr15:89320857:G:A' 'chr15:89320869:G:A'\n",
      " 'chr15:89320877:G:A' 'chr15:89320890:G:A' 'chr15:89320894:G:A'\n",
      " 'chr15:89320948:A:C' 'chr15:89321135:G:A' 'chr15:89321217:G:A'\n",
      " 'chr15:89321258:A:G' 'chr15:89321770:A:G' 'chr15:89321771:C:A'\n",
      " 'chr15:89321793:G:A' 'chr15:89321847:G:A' 'chr15:89322749:G:A'\n",
      " 'chr15:89323423:A:G' 'chr15:89323449:G:A' 'chr15:89324150:G:A'\n",
      " 'chr15:89324200:G:A' 'chr15:89324221:G:A' 'chr15:89325456:G:C'\n",
      " 'chr15:89325531:A:C' 'chr15:89325557:G:A' 'chr15:89325562:G:A'\n",
      " 'chr15:89325591:A:G' 'chr15:89325610:G:A' 'chr15:89325656:G:A'\n",
      " 'chr15:89326695:G:A' 'chr15:89326947:C:A' 'chr15:89327244:A:G'\n",
      " 'chr15:89327289:G:A' 'chr15:89327300:A:G' 'chr15:89327325:G:A'\n",
      " 'chr15:89328532:G:C' 'chr15:89328699:G:A' 'chr15:89328789:G:A'\n",
      " 'chr15:89328996:G:A' 'chr15:89329051:G:C' 'chr15:89330106:T:A'\n",
      " 'chr15:89330133:C:G' 'chr15:89330138:C:A' 'chr15:89330257:G:A'\n",
      " 'chr15:89333327:G:A' 'chr15:89333491:G:A' 'chr16:46674616:G:A'\n",
      " 'chr21:32665968:A:G' 'chr22:38112212:A:C' 'chr22:38112541:G:A'\n",
      " 'chr22:38113561:G:A' 'chr22:38116119:C:A' 'chr22:38116156:G:A'\n",
      " 'chr22:38116176:G:A' 'chr22:38123185:C:G' 'chr22:38128349:G:A'\n",
      " 'chr22:38132850:G:A' 'chr22:38132952:G:A' 'chr22:38140006:G:A'\n",
      " 'chr22:38145477:A:G' 'chr22:38145538:G:C' 'chr22:38169326:G:A']\n"
     ]
    }
   ],
   "source": [
    "metrics_all_path = snp_metrics.merge(all_path, how='right', left_on=['merge_id'], right_on=['merge_id_x'])\n",
    "print(metrics_all_path.head())\n",
    "print(metrics_all_path.shape)\n",
    "print(len(metrics_all_path['merge_id_y'].unique()))\n",
    "print(metrics_all_path['SNP'].unique())"
   ]
  },
  {
   "cell_type": "code",
   "execution_count": 13,
   "metadata": {},
   "outputs": [
    {
     "name": "stdout",
     "output_type": "stream",
     "text": [
      "                              snpID        R     Theta  GenTrain_Score  GT  \\\n",
      "0  PARK7:NM_007262.4:c.501A>G:p.(.)  1.56307  0.003493        0.813555  AA   \n",
      "1  PARK7:NM_007262.4:c.501A>G:p.(.)  1.62276  0.026541        0.813555  AA   \n",
      "2  PARK7:NM_007262.4:c.501A>G:p.(.)  1.61216  0.015868        0.813555  AA   \n",
      "3  PARK7:NM_007262.4:c.501A>G:p.(.)  1.72910  0.013867        0.813555  AA   \n",
      "4  PARK7:NM_007262.4:c.501A>G:p.(.)  1.69665  0.021765        0.813555  AA   \n",
      "\n",
      "   chromosome  position            Sample_ID phenotype ancestry      merge_id  \\\n",
      "0           1   7984985  204697840003_R04C01        PD      AFR  chr1:7984985   \n",
      "1           1   7984985  204701870016_R05C01        PD      AFR  chr1:7984985   \n",
      "2           1   7984985  204701870004_R06C01        PD      AFR  chr1:7984985   \n",
      "3           1   7984985  204701860133_R08C01        PD      AFR  chr1:7984985   \n",
      "4           1   7984985  204620380006_R08C01        PD      AFR  chr1:7984985   \n",
      "\n",
      "                 ID   chr      pos alt ref  \n",
      "0  chr1:7984985:A:G  chr1  7984985   A   G  \n",
      "1  chr1:7984985:A:G  chr1  7984985   A   G  \n",
      "2  chr1:7984985:A:G  chr1  7984985   A   G  \n",
      "3  chr1:7984985:A:G  chr1  7984985   A   G  \n",
      "4  chr1:7984985:A:G  chr1  7984985   A   G  \n",
      "(1018540, 16)\n",
      "225\n"
     ]
    }
   ],
   "source": [
    "metrics_all = snp_metrics.merge(all_vars, how='inner', on=['merge_id'])\n",
    "print(metrics_all.head())\n",
    "print(metrics_all.shape)\n",
    "print(len(metrics_all['ID'].unique()))"
   ]
  },
  {
   "cell_type": "code",
   "execution_count": 14,
   "metadata": {},
   "outputs": [
    {
     "name": "stdout",
     "output_type": "stream",
     "text": [
      "                              snpID        R     Theta  GenTrain_Score  GT  \\\n",
      "0  PARK7:NM_007262.4:c.501A>G:p.(.)  1.56307  0.003493        0.813555  AA   \n",
      "1  PARK7:NM_007262.4:c.501A>G:p.(.)  1.62276  0.026541        0.813555  AA   \n",
      "2  PARK7:NM_007262.4:c.501A>G:p.(.)  1.61216  0.015868        0.813555  AA   \n",
      "3  PARK7:NM_007262.4:c.501A>G:p.(.)  1.72910  0.013867        0.813555  AA   \n",
      "4  PARK7:NM_007262.4:c.501A>G:p.(.)  1.69665  0.021765        0.813555  AA   \n",
      "\n",
      "   chromosome  position            Sample_ID phenotype ancestry  ...  \\\n",
      "0           1   7984985  204697840003_R04C01        PD      AFR  ...   \n",
      "1           1   7984985  204701870016_R05C01        PD      AFR  ...   \n",
      "2           1   7984985  204701870004_R06C01        PD      AFR  ...   \n",
      "3           1   7984985  204701860133_R08C01        PD      AFR  ...   \n",
      "4           1   7984985  204620380006_R08C01        PD      AFR  ...   \n",
      "\n",
      "                 ID chr_x    pos_x alt_x ref_x               SNP chr_y  \\\n",
      "0  chr1:7984985:A:G  chr1  7984985     A     G  chr1:7984985:A:G  chr1   \n",
      "1  chr1:7984985:A:G  chr1  7984985     A     G  chr1:7984985:A:G  chr1   \n",
      "2  chr1:7984985:A:G  chr1  7984985     A     G  chr1:7984985:A:G  chr1   \n",
      "3  chr1:7984985:A:G  chr1  7984985     A     G  chr1:7984985:A:G  chr1   \n",
      "4  chr1:7984985:A:G  chr1  7984985     A     G  chr1:7984985:A:G  chr1   \n",
      "\n",
      "     pos_y alt_y ref_y  \n",
      "0  7984985     A     G  \n",
      "1  7984985     A     G  \n",
      "2  7984985     A     G  \n",
      "3  7984985     A     G  \n",
      "4  7984985     A     G  \n",
      "\n",
      "[5 rows x 21 columns]\n",
      "(1046610, 21)\n",
      "192\n"
     ]
    }
   ],
   "source": [
    "metrics_all_path = metrics_all.merge(pathogenic_snps, how='inner', on=['merge_id'])\n",
    "print(metrics_all_path.head())\n",
    "print(metrics_all_path.shape)\n",
    "print(len(metrics_all_path['SNP'].unique()))"
   ]
  },
  {
   "cell_type": "code",
   "execution_count": null,
   "metadata": {},
   "outputs": [],
   "source": []
  }
 ],
 "metadata": {
  "kernelspec": {
   "display_name": "Python 3 (ipykernel)",
   "language": "python",
   "name": "python3"
  },
  "language_info": {
   "codemirror_mode": {
    "name": "ipython",
    "version": 3
   },
   "file_extension": ".py",
   "mimetype": "text/x-python",
   "name": "python",
   "nbconvert_exporter": "python",
   "pygments_lexer": "ipython3",
   "version": "3.10.8"
  }
 },
 "nbformat": 4,
 "nbformat_minor": 2
}
