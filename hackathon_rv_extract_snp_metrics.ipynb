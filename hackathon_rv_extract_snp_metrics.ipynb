{
 "cells": [
  {
   "cell_type": "code",
   "execution_count": 1,
   "id": "cc84af48-263d-450e-b84a-ce6ef57ce531",
   "metadata": {
    "tags": []
   },
   "outputs": [],
   "source": [
    "import pandas as pd\n",
    "import numpy as np\n",
    "import os\n",
    "import argparse\n",
    "import sys\n",
    "import subprocess\n",
    "import time"
   ]
  },
  {
   "cell_type": "code",
   "execution_count": 2,
   "id": "0617fbf5-ea2f-469a-a477-9745f0a2870e",
   "metadata": {
    "tags": []
   },
   "outputs": [],
   "source": [
    "def shell_do(command, log=False, return_log=False):\n",
    "    print(f'Executing: {(\" \").join(command.split())}', file=sys.stderr)\n",
    "\n",
    "    res=subprocess.run(command.split(), stdout=subprocess.PIPE)\n",
    "\n",
    "    if log:\n",
    "        print(res.stdout.decode('utf-8'))\n",
    "    if return_log:\n",
    "        return(res.stdout.decode('utf-8'))"
   ]
  },
  {
   "cell_type": "code",
   "execution_count": 3,
   "id": "75bd3e9e-8a65-4cac-a86c-a504a00a9b21",
   "metadata": {
    "tags": []
   },
   "outputs": [],
   "source": [
    "wd = '/path/to/working/directory'"
   ]
  },
  {
   "cell_type": "code",
   "execution_count": 7,
   "id": "803a43d8-1f63-4436-868d-38bd47871b9e",
   "metadata": {
    "tags": []
   },
   "outputs": [],
   "source": [
    "# data paths\n",
    "## Note: using samples from release 6 since they are processed already\n",
    "## This will not affect results since samples from release 6 are all included in release 7\n",
    "\n",
    "snp_metrics_data_dir = '/path/to/snp/metrics'\n",
    "master_key_full_path = '/path/to/full/master/key'\n",
    "master_key_release_path = f'/path/to/release6/master/key'\n",
    "genotype_path = '/path/to/release6/plink/genotypes'\n",
    "metrics_dir = f'/path/to/output/directory'\n",
    "hackathon_vars_path = f'data/PATHOGENIC_SNPS_TO_CLUSTER.txt'"
   ]
  },
  {
   "cell_type": "code",
   "execution_count": 11,
   "id": "cc9d47fd-775b-4571-a8c4-ed89afb25efd",
   "metadata": {
    "tags": []
   },
   "outputs": [
    {
     "name": "stdout",
     "output_type": "stream",
     "text": [
      "(97, 5)\n",
      "1\n",
      "[155235197, 155235205, 155235819, 155235843, 155236246, 155236420, 155237394, 155237412, 155237446, 155238141, 155238174, 155238214, 155238228, 155238258, 155238290, 155238291, 155238608, 155238631, 155239639, 155240025, 16986091, 16986235, 16986335, 16986490, 16986526, 16986554, 16986571, 16986610, 16986818, 16986847, 16988138, 16988161, 16988338, 16988444, 16988465, 16989977, 16990132, 16990133, 16990208, 16990254, 16990276, 16991787, 16991795, 16992019, 16992301, 16992322, 16992348, 16992378, 16992564, 16993667, 16993668, 16993690, 16996069, 16996255, 16996293, 16996298, 16996448, 16996487, 16996489, 16997087, 16997135, 16997136, 17000057, 17000099, 17000107, 17000307, 17000494, 17004773, 17005465, 17005548, 17005747, 17005753, 17011732, 20633615, 20633713, 20633815, 20633840, 20637868, 20637888, 20637956, 20638012, 20644540, 20644571, 20644649, 20645615, 20645665, 20645675, 20645695, 20648528, 20648534, 20648612, 20649224, 20650643, 20650673, 65392454, 7962868, 7984985]\n",
      "(4, 5)\n",
      "2\n",
      "[74530221, 74530396, 74531866, 74532634]\n",
      "(2, 5)\n",
      "3\n",
      "[132477995, 132494190]\n",
      "(4, 5)\n",
      "4\n",
      "[41261759, 89822254, 89822327, 89822336]\n",
      "(18, 5)\n",
      "6\n",
      "[161350125, 161350187, 161350208, 161360169, 161548937, 161569369, 161785829, 161785899, 161973317, 162201134, 162201143, 162262692, 162262763, 162443314, 162443356, 162443371, 162443383, 162443433]\n",
      "(31, 5)\n",
      "12\n",
      "[40225233, 40225580, 40235634, 40238078, 40240543, 40243668, 40249843, 40251273, 40251346, 40252958, 40257283, 40259507, 40259578, 40263791, 40263806, 40284011, 40293624, 40308476, 40308481, 40314043, 40320043, 40323256, 40328416, 40335008, 40340400, 40354304, 40356145, 40359345, 40363440, 40363526, 40364956]\n",
      "(143, 5)\n",
      "15\n",
      "[61856408, 61922492, 62012126, 62028419, 89316771, 89316804, 89316819, 89317379, 89317389, 89317407, 89317455, 89317460, 89317470, 89317500, 89317531, 89318553, 89318555, 89318573, 89318579, 89318587, 89318611, 89318640, 89318736, 89318737, 89318946, 89318962, 89318982, 89318985, 89318988, 89319006, 89319053, 89319065, 89319234, 89319257, 89319308, 89320850, 89320857, 89320867, 89320869, 89320877, 89320890, 89320894, 89320939, 89320948, 89321007, 89321135, 89321194, 89321217, 89321223, 89321239, 89321246, 89321258, 89321761, 89321770, 89321771, 89321793, 89321846, 89321847, 89322749, 89323405, 89323423, 89323449, 89323460, 89323462, 89323823, 89323851, 89323863, 89324126, 89324137, 89324149, 89324150, 89324156, 89324158, 89324194, 89324200, 89324221, 89325456, 89325470, 89325494, 89325494, 89325501, 89325512, 89325516, 89325519, 89325531, 89325549, 89325557, 89325562, 89325591, 89325609, 89325610, 89325619, 89325638, 89325656, 89325678, 89326695, 89326698, 89326725, 89326947, 89326952, 89327198, 89327211, 89327214, 89327244, 89327289, 89327300, 89327324, 89327325, 89327331, 89327349, 89328508, 89328532, 89328699, 89328789, 89328991, 89328996, 89328996, 89329011, 89329051, 89329055, 89329098, 89329104, 89330106, 89330133, 89330138, 89330257, 89330258, 89333152, 89333233, 89333239, 89333271, 89333327, 89333347, 89333364, 89333425, 89333427, 89333491, 89333491, 89333569, 89333601, 89333624, 89333626, 89333668]\n",
      "(5, 5)\n",
      "16\n",
      "[46660543, 46671809, 46674439, 46674616, 46679015]\n",
      "(5, 5)\n",
      "21\n",
      "[32639767, 32665968, 32666479, 32688306, 32726858]\n",
      "(51, 5)\n",
      "22\n",
      "[32479135, 32485115, 32491175, 32498467, 32498496, 32498507, 38112165, 38112212, 38112295, 38112521, 38112541, 38112558, 38112565, 38113560, 38113561, 38115578, 38115582, 38115663, 38116119, 38116155, 38116156, 38116176, 38120776, 38120886, 38120887, 38120888, 38123138, 38123185, 38123191, 38123251, 38126374, 38126390, 38128349, 38129529, 38132850, 38132917, 38132922, 38132942, 38132952, 38133010, 38135034, 38140006, 38143219, 38145447, 38145467, 38145477, 38145538, 38145597, 38145625, 38169218, 38169326]\n"
     ]
    }
   ],
   "source": [
    "# read through hackathon vars, loop through chroms and write positions to files\n",
    "## Note: the list of chromosomes is just generated by a quick look through the hacakthon vars file\n",
    "## Note: printing the list of positions in here because they get copied over to the \n",
    "## hackathon_rv_extract_snp_metrics.py file\n",
    "\n",
    "hack_vars = pd.read_csv(hackathon_vars_path, sep='\\t')\n",
    "\n",
    "chroms = [1,2,3,4,6,12,15,16,21,22]\n",
    "\n",
    "for chrom in chroms:\n",
    "    hack_vars_chr = hack_vars[hack_vars['SNP'].str.startswith(f'chr{chrom}:')].copy()\n",
    "    hack_vars_chr[['chr','pos','ref','alt']] = hack_vars_chr['SNP'].str.split(':', expand=True)\n",
    "    print(hack_vars_chr.shape)\n",
    "    print(chrom)\n",
    "    print(hack_vars_chr['pos'].astype(int).values.tolist())\n",
    "    hack_vars_chr['pos'].to_csv(f'{metrics_dir}/chr{chrom}_vars.txt', sep=',', header=None, index=None)"
   ]
  },
  {
   "cell_type": "code",
   "execution_count": null,
   "id": "6e49e053-2fba-499d-b1a4-b0b1a75ccc20",
   "metadata": {},
   "outputs": [],
   "source": [
    "# get full release freq\n",
    "\n",
    "full_freq_cmd = f'plink2 --pfile {genotype_path} --freq --out {metrics_dir}/full_maf'\n",
    "shell_do(full_freq_cmd)"
   ]
  },
  {
   "cell_type": "code",
   "execution_count": null,
   "id": "cfb97552-7f6e-4c90-a6a5-52c29169f353",
   "metadata": {},
   "outputs": [],
   "source": [
    "# write a bash script and submit job for each chromosome\n",
    "\n",
    "with open(f'{wd}/snp_metrics.swarm', 'w') as f1:\n",
    "    for chrom in chroms:\n",
    "        with open(f'{wd}/snp_metrics_{chrom}.sh','w') as f:\n",
    "            f.write('#!/usr/bin/env bash\\n\\n')\n",
    "            f.write('source /path/to/conda.sh\\n')\n",
    "            f.write('conda activate env_name\\n\\n')\n",
    "            f.write(f'python3 {wd}/snp_metrics_process_subset_variants.py --chr {chrom}')\n",
    "            f.close()\n",
    "\n",
    "        f1.write(f'bash {wd}/snp_metrics_{chrom}.sh\\n')\n",
    "    f1.close()\n",
    "\n",
    "swarm_cmd = f'swarm -f {wd}/snp_metrics.swarm -g 50 --time=30:00:00 --module python/3.9'\n",
    "shell_do(swarm_cmd)"
   ]
  },
  {
   "cell_type": "code",
   "execution_count": 15,
   "id": "e0b8367b-c44f-4013-b988-2f7013d1a409",
   "metadata": {
    "tags": []
   },
   "outputs": [
    {
     "name": "stdout",
     "output_type": "stream",
     "text": [
      "                              snpID         R     Theta  GenTrain_Score  GT  \\\n",
      "0  PARK7:NM_007262.4:c.501A>G:p.(.)  1.563070  0.003493        0.813555  AA   \n",
      "1                          exm22865  0.862394  0.971369        0.859224  BB   \n",
      "2                          exm22897  1.426340  0.958124        0.802682  BB   \n",
      "3                       rs144557304  1.004180  0.986961        0.884113  BB   \n",
      "4                          exm22899  1.026380  0.974530        0.891090  BB   \n",
      "\n",
      "   chromosome  position            Sample_ID phenotype ancestry  \n",
      "0           1   7984985  204697840003_R04C01        PD      AFR  \n",
      "1           1  16986554  204697840003_R04C01        PD      AFR  \n",
      "2           1  16988138  204697840003_R04C01        PD      AFR  \n",
      "3           1  16988138  204697840003_R04C01        PD      AFR  \n",
      "4           1  16988161  204697840003_R04C01        PD      AFR  \n",
      "(757890, 10)\n",
      "chromosome\n",
      "15    370925\n",
      "1     116290\n",
      "22    114285\n",
      "6      66165\n",
      "12     66165\n",
      "3       8020\n",
      "21      8020\n",
      "16      4010\n",
      "2       2005\n",
      "4       2005\n",
      "Name: count, dtype: int64\n"
     ]
    }
   ],
   "source": [
    "# loop over ancestries and chromosomes to build full SNP metrics df\n",
    "\n",
    "full_metrics = pd.DataFrame()\n",
    "\n",
    "for ancestry in ['AFR','AAC','AJ','AMR','CAH','CAS','EAS','EUR','FIN','MDE','SAS']:\n",
    "    for chrom in chroms:\n",
    "        metrics = pd.read_csv(f'{metrics_dir}/{ancestry}/chr{chrom}_metrics.csv', sep=',')\n",
    "        metrics['ancestry'] = ancestry\n",
    "        full_metrics = pd.concat([full_metrics, metrics], axis=0)\n",
    "        \n",
    "print(full_metrics.head())\n",
    "print(full_metrics.shape)\n",
    "print(full_metrics['chromosome'].value_counts())"
   ]
  },
  {
   "cell_type": "code",
   "execution_count": 16,
   "id": "a944190a-e0a2-4a80-83c2-c3e7733efbd2",
   "metadata": {
    "tags": []
   },
   "outputs": [],
   "source": [
    "# write full metrics to file\n",
    "\n",
    "full_metrics.to_csv(f'{metrics_dir}/updated_hackathon_snp_metrics.txt', sep='\\t', index=False)"
   ]
  },
  {
   "cell_type": "code",
   "execution_count": null,
   "id": "e6f5cee7-1b01-48aa-badf-a071bea2083f",
   "metadata": {},
   "outputs": [],
   "source": []
  }
 ],
 "metadata": {
  "kernelspec": {
   "display_name": "python/3.8",
   "language": "python",
   "name": "py3.8"
  },
  "language_info": {
   "codemirror_mode": {
    "name": "ipython",
    "version": 3
   },
   "file_extension": ".py",
   "mimetype": "text/x-python",
   "name": "python",
   "nbconvert_exporter": "python",
   "pygments_lexer": "ipython3",
   "version": "3.8.15"
  }
 },
 "nbformat": 4,
 "nbformat_minor": 5
}
